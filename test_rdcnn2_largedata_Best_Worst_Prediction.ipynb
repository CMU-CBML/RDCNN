{
 "cells": [
  {
   "cell_type": "markdown",
   "metadata": {},
   "source": [
    "# Improved balance data\n"
   ]
  },
  {
   "cell_type": "code",
   "execution_count": 1,
   "metadata": {},
   "outputs": [
    {
     "name": "stdout",
     "output_type": "stream",
     "text": [
      "===> Loading datasets\n",
      "===> Building model\n"
     ]
    }
   ],
   "source": [
    "import torch\n",
    "import torch.nn as nn\n",
    "import torch.optim as optim\n",
    "from torch.utils import data\n",
    "from torch.utils.data.sampler import SubsetRandomSampler\n",
    "import dataset\n",
    "import importlib \n",
    "importlib.reload(dataset)\n",
    "\n",
    "\n",
    "import numpy as np\n",
    "import data\n",
    "from dataset import rdDataset\n",
    "from model import rdcnn_2\n",
    "from math import log10\n",
    "from matplotlib import pyplot as plt\n",
    "\n",
    "# CUDA for PyTorch\n",
    "use_cuda = torch.cuda.is_available()\n",
    "device = torch.device(\"cuda:1\" if use_cuda else \"cpu\")\n",
    "# cudnn.benchmark = True\n",
    "path = './data'\n",
    "\n",
    "# Parameters\n",
    "\n",
    "params = {'test_split': .25,\n",
    "          'shuffle_dataset': True,\n",
    "          'batchsize': 32,\n",
    "          'testBatchsize': 10,\n",
    "          'random_seed': 42,\n",
    "          'numworkers':32}\n",
    "max_epoches = 100\n",
    "learning_rate = 1e-3\n",
    "drop_rate = 0.0\n",
    "\n",
    "print('===> Loading datasets')\n",
    "# Load All Dataset\n",
    "dataset = rdDataset(path)\n",
    "\n",
    "# Creating data indices for training and validation splits:\n",
    "training_data_loader, testing_data_loader = data.DatasetSplit(dataset, **params)\n",
    "\n",
    "print('===> Building model')\n",
    "model = rdcnn_2(drop_rate).to(device)\n",
    "criterion = nn.MSELoss()\n",
    "optimizer = torch.optim.Adam(model.parameters(), lr=learning_rate,weight_decay=1e-5)\n",
    "\n",
    "\n",
    "\n",
    "def train(epoch):\n",
    "    epoch_loss = 0\n",
    "    for iteration, batch in enumerate(training_data_loader, 1):\n",
    "        input, target = batch[0].to(device, torch.float), batch[1].to(device, torch.float)\n",
    "        optimizer.zero_grad()\n",
    "        loss = criterion(model(input), target)\n",
    "        epoch_loss += loss.item()\n",
    "        loss.backward()\n",
    "        optimizer.step()\n",
    "\n",
    "#         print(\"===> Epoch[{}]({}/{}): Loss: {:.4f}\".format(epoch, iteration, len(training_data_loader), loss.item()))\n",
    "\n",
    "    print(\"===> Epoch {} Complete: Avg. Loss: {:.4f}\".format(epoch, epoch_loss / len(training_data_loader)))\n",
    "    return epoch, epoch_loss / len(training_data_loader)\n",
    "    \n",
    "def test():\n",
    "    avg_error = 0\n",
    "    avg_loss = 0\n",
    "    with torch.no_grad():\n",
    "        for batch in testing_data_loader:\n",
    "            input, target = batch[0].to(device, torch.float), batch[1].to(device, torch.float)\n",
    "\n",
    "            prediction = model(input)\n",
    "            tmp_error = 0\n",
    "#             print(len(prediction))\n",
    "            for j in range(len(prediction)):\n",
    "                tmp_error += torch.mean((prediction[j]-target[j])**2/torch.max(target[j]))\n",
    "            avg_error += tmp_error / len(prediction)\n",
    "            mse = criterion(prediction, target)\n",
    "            avg_loss += mse\n",
    "    print(\"===> Avg. Loss: {:.4f} \".format(avg_loss / len(testing_data_loader)))\n",
    "    print(\"===> Avg. Error: {:.4f} \".format(avg_error / len(testing_data_loader)))\n",
    "    return avg_loss / len(testing_data_loader),avg_error / len(testing_data_loader)\n",
    "\n",
    "def checkpoint(epoch):\n",
    "    model_out_path = \"./checkpoint_largedata4/model_epoch_{}.pth\".format(epoch)\n",
    "    torch.save(model, model_out_path)\n",
    "    print(\"Checkpoint saved to {}\".format(model_out_path))\n",
    "    \n",
    "    "
   ]
  },
  {
   "cell_type": "code",
   "execution_count": 5,
   "metadata": {},
   "outputs": [
    {
     "name": "stdout",
     "output_type": "stream",
     "text": [
      "===> Epoch 1 Complete: Avg. Loss: 0.0062\n",
      "===> Avg. Loss: 0.0022 \n",
      "===> Avg. Error: 0.0024 \n",
      "Checkpoint saved to ./checkpoint_largedata3/model_epoch_1.pth\n",
      "===> Epoch 2 Complete: Avg. Loss: 0.0018\n",
      "===> Avg. Loss: 0.0011 \n",
      "===> Avg. Error: 0.0012 \n",
      "Checkpoint saved to ./checkpoint_largedata3/model_epoch_2.pth\n",
      "===> Epoch 3 Complete: Avg. Loss: 0.0011\n",
      "===> Avg. Loss: 0.0019 \n",
      "===> Avg. Error: 0.0021 \n",
      "Checkpoint saved to ./checkpoint_largedata3/model_epoch_3.pth\n",
      "===> Epoch 4 Complete: Avg. Loss: 0.0009\n",
      "===> Avg. Loss: 0.0009 \n",
      "===> Avg. Error: 0.0010 \n",
      "Checkpoint saved to ./checkpoint_largedata3/model_epoch_4.pth\n",
      "===> Epoch 5 Complete: Avg. Loss: 0.0008\n",
      "===> Avg. Loss: 0.0006 \n",
      "===> Avg. Error: 0.0007 \n",
      "Checkpoint saved to ./checkpoint_largedata3/model_epoch_5.pth\n",
      "===> Epoch 6 Complete: Avg. Loss: 0.0008\n",
      "===> Avg. Loss: 0.0005 \n",
      "===> Avg. Error: 0.0006 \n",
      "Checkpoint saved to ./checkpoint_largedata3/model_epoch_6.pth\n",
      "===> Epoch 7 Complete: Avg. Loss: 0.0007\n",
      "===> Avg. Loss: 0.0005 \n",
      "===> Avg. Error: 0.0006 \n",
      "Checkpoint saved to ./checkpoint_largedata3/model_epoch_7.pth\n",
      "===> Epoch 8 Complete: Avg. Loss: 0.0007\n",
      "===> Avg. Loss: 0.0006 \n",
      "===> Avg. Error: 0.0006 \n",
      "Checkpoint saved to ./checkpoint_largedata3/model_epoch_8.pth\n",
      "===> Epoch 9 Complete: Avg. Loss: 0.0007\n",
      "===> Avg. Loss: 0.0005 \n",
      "===> Avg. Error: 0.0006 \n",
      "Checkpoint saved to ./checkpoint_largedata3/model_epoch_9.pth\n",
      "===> Epoch 10 Complete: Avg. Loss: 0.0007\n",
      "===> Avg. Loss: 0.0005 \n",
      "===> Avg. Error: 0.0005 \n",
      "Checkpoint saved to ./checkpoint_largedata3/model_epoch_10.pth\n",
      "===> Epoch 11 Complete: Avg. Loss: 0.0007\n",
      "===> Avg. Loss: 0.0006 \n",
      "===> Avg. Error: 0.0007 \n",
      "Checkpoint saved to ./checkpoint_largedata3/model_epoch_11.pth\n",
      "===> Epoch 12 Complete: Avg. Loss: 0.0006\n",
      "===> Avg. Loss: 0.0007 \n",
      "===> Avg. Error: 0.0008 \n",
      "Checkpoint saved to ./checkpoint_largedata3/model_epoch_12.pth\n",
      "===> Epoch 13 Complete: Avg. Loss: 0.0006\n",
      "===> Avg. Loss: 0.0006 \n",
      "===> Avg. Error: 0.0007 \n",
      "Checkpoint saved to ./checkpoint_largedata3/model_epoch_13.pth\n",
      "===> Epoch 14 Complete: Avg. Loss: 0.0006\n",
      "===> Avg. Loss: 0.0005 \n",
      "===> Avg. Error: 0.0006 \n",
      "Checkpoint saved to ./checkpoint_largedata3/model_epoch_14.pth\n",
      "===> Epoch 15 Complete: Avg. Loss: 0.0007\n",
      "===> Avg. Loss: 0.0008 \n",
      "===> Avg. Error: 0.0009 \n",
      "Checkpoint saved to ./checkpoint_largedata3/model_epoch_15.pth\n",
      "===> Epoch 16 Complete: Avg. Loss: 0.0006\n",
      "===> Avg. Loss: 0.0004 \n",
      "===> Avg. Error: 0.0005 \n",
      "Checkpoint saved to ./checkpoint_largedata3/model_epoch_16.pth\n",
      "===> Epoch 17 Complete: Avg. Loss: 0.0006\n",
      "===> Avg. Loss: 0.0004 \n",
      "===> Avg. Error: 0.0005 \n",
      "Checkpoint saved to ./checkpoint_largedata3/model_epoch_17.pth\n",
      "===> Epoch 18 Complete: Avg. Loss: 0.0006\n",
      "===> Avg. Loss: 0.0005 \n",
      "===> Avg. Error: 0.0006 \n",
      "Checkpoint saved to ./checkpoint_largedata3/model_epoch_18.pth\n",
      "===> Epoch 19 Complete: Avg. Loss: 0.0006\n",
      "===> Avg. Loss: 0.0007 \n",
      "===> Avg. Error: 0.0008 \n",
      "Checkpoint saved to ./checkpoint_largedata3/model_epoch_19.pth\n",
      "===> Epoch 20 Complete: Avg. Loss: 0.0006\n",
      "===> Avg. Loss: 0.0006 \n",
      "===> Avg. Error: 0.0007 \n",
      "Checkpoint saved to ./checkpoint_largedata3/model_epoch_20.pth\n",
      "===> Epoch 21 Complete: Avg. Loss: 0.0006\n",
      "===> Avg. Loss: 0.0004 \n",
      "===> Avg. Error: 0.0005 \n",
      "Checkpoint saved to ./checkpoint_largedata3/model_epoch_21.pth\n",
      "===> Epoch 22 Complete: Avg. Loss: 0.0006\n",
      "===> Avg. Loss: 0.0009 \n",
      "===> Avg. Error: 0.0010 \n",
      "Checkpoint saved to ./checkpoint_largedata3/model_epoch_22.pth\n",
      "===> Epoch 23 Complete: Avg. Loss: 0.0006\n",
      "===> Avg. Loss: 0.0006 \n",
      "===> Avg. Error: 0.0007 \n",
      "Checkpoint saved to ./checkpoint_largedata3/model_epoch_23.pth\n",
      "===> Epoch 24 Complete: Avg. Loss: 0.0006\n",
      "===> Avg. Loss: 0.0005 \n",
      "===> Avg. Error: 0.0005 \n",
      "Checkpoint saved to ./checkpoint_largedata3/model_epoch_24.pth\n",
      "===> Epoch 25 Complete: Avg. Loss: 0.0006\n",
      "===> Avg. Loss: 0.0004 \n",
      "===> Avg. Error: 0.0004 \n",
      "Checkpoint saved to ./checkpoint_largedata3/model_epoch_25.pth\n",
      "===> Epoch 26 Complete: Avg. Loss: 0.0006\n",
      "===> Avg. Loss: 0.0007 \n",
      "===> Avg. Error: 0.0008 \n",
      "Checkpoint saved to ./checkpoint_largedata3/model_epoch_26.pth\n",
      "===> Epoch 27 Complete: Avg. Loss: 0.0006\n",
      "===> Avg. Loss: 0.0007 \n",
      "===> Avg. Error: 0.0008 \n",
      "Checkpoint saved to ./checkpoint_largedata3/model_epoch_27.pth\n",
      "===> Epoch 28 Complete: Avg. Loss: 0.0006\n",
      "===> Avg. Loss: 0.0004 \n",
      "===> Avg. Error: 0.0004 \n",
      "Checkpoint saved to ./checkpoint_largedata3/model_epoch_28.pth\n",
      "===> Epoch 29 Complete: Avg. Loss: 0.0006\n",
      "===> Avg. Loss: 0.0004 \n",
      "===> Avg. Error: 0.0005 \n",
      "Checkpoint saved to ./checkpoint_largedata3/model_epoch_29.pth\n",
      "===> Epoch 30 Complete: Avg. Loss: 0.0006\n",
      "===> Avg. Loss: 0.0025 \n",
      "===> Avg. Error: 0.0030 \n",
      "Checkpoint saved to ./checkpoint_largedata3/model_epoch_30.pth\n",
      "===> Epoch 31 Complete: Avg. Loss: 0.0006\n",
      "===> Avg. Loss: 0.0006 \n",
      "===> Avg. Error: 0.0007 \n",
      "Checkpoint saved to ./checkpoint_largedata3/model_epoch_31.pth\n",
      "===> Epoch 32 Complete: Avg. Loss: 0.0006\n",
      "===> Avg. Loss: 0.0004 \n",
      "===> Avg. Error: 0.0005 \n",
      "Checkpoint saved to ./checkpoint_largedata3/model_epoch_32.pth\n",
      "===> Epoch 33 Complete: Avg. Loss: 0.0005\n",
      "===> Avg. Loss: 0.0004 \n",
      "===> Avg. Error: 0.0004 \n",
      "Checkpoint saved to ./checkpoint_largedata3/model_epoch_33.pth\n",
      "===> Epoch 34 Complete: Avg. Loss: 0.0005\n",
      "===> Avg. Loss: 0.0004 \n",
      "===> Avg. Error: 0.0005 \n",
      "Checkpoint saved to ./checkpoint_largedata3/model_epoch_34.pth\n",
      "===> Epoch 35 Complete: Avg. Loss: 0.0005\n",
      "===> Avg. Loss: 0.0005 \n",
      "===> Avg. Error: 0.0006 \n",
      "Checkpoint saved to ./checkpoint_largedata3/model_epoch_35.pth\n",
      "===> Epoch 36 Complete: Avg. Loss: 0.0005\n",
      "===> Avg. Loss: 0.0005 \n",
      "===> Avg. Error: 0.0006 \n",
      "Checkpoint saved to ./checkpoint_largedata3/model_epoch_36.pth\n",
      "===> Epoch 37 Complete: Avg. Loss: 0.0005\n",
      "===> Avg. Loss: 0.0010 \n",
      "===> Avg. Error: 0.0012 \n",
      "Checkpoint saved to ./checkpoint_largedata3/model_epoch_37.pth\n",
      "===> Epoch 38 Complete: Avg. Loss: 0.0005\n",
      "===> Avg. Loss: 0.0005 \n",
      "===> Avg. Error: 0.0005 \n",
      "Checkpoint saved to ./checkpoint_largedata3/model_epoch_38.pth\n",
      "===> Epoch 39 Complete: Avg. Loss: 0.0005\n",
      "===> Avg. Loss: 0.0005 \n",
      "===> Avg. Error: 0.0005 \n",
      "Checkpoint saved to ./checkpoint_largedata3/model_epoch_39.pth\n",
      "===> Epoch 40 Complete: Avg. Loss: 0.0006\n",
      "===> Avg. Loss: 0.0004 \n",
      "===> Avg. Error: 0.0005 \n",
      "Checkpoint saved to ./checkpoint_largedata3/model_epoch_40.pth\n",
      "===> Epoch 41 Complete: Avg. Loss: 0.0005\n",
      "===> Avg. Loss: 0.0004 \n",
      "===> Avg. Error: 0.0005 \n",
      "Checkpoint saved to ./checkpoint_largedata3/model_epoch_41.pth\n",
      "===> Epoch 42 Complete: Avg. Loss: 0.0005\n",
      "===> Avg. Loss: 0.0004 \n",
      "===> Avg. Error: 0.0005 \n",
      "Checkpoint saved to ./checkpoint_largedata3/model_epoch_42.pth\n",
      "===> Epoch 43 Complete: Avg. Loss: 0.0005\n",
      "===> Avg. Loss: 0.0004 \n",
      "===> Avg. Error: 0.0005 \n",
      "Checkpoint saved to ./checkpoint_largedata3/model_epoch_43.pth\n",
      "===> Epoch 44 Complete: Avg. Loss: 0.0006\n",
      "===> Avg. Loss: 0.0004 \n",
      "===> Avg. Error: 0.0005 \n",
      "Checkpoint saved to ./checkpoint_largedata3/model_epoch_44.pth\n",
      "===> Epoch 45 Complete: Avg. Loss: 0.0005\n",
      "===> Avg. Loss: 0.0008 \n",
      "===> Avg. Error: 0.0010 \n",
      "Checkpoint saved to ./checkpoint_largedata3/model_epoch_45.pth\n",
      "===> Epoch 46 Complete: Avg. Loss: 0.0005\n",
      "===> Avg. Loss: 0.0005 \n",
      "===> Avg. Error: 0.0005 \n",
      "Checkpoint saved to ./checkpoint_largedata3/model_epoch_46.pth\n",
      "===> Epoch 47 Complete: Avg. Loss: 0.0005\n",
      "===> Avg. Loss: 0.0004 \n",
      "===> Avg. Error: 0.0004 \n",
      "Checkpoint saved to ./checkpoint_largedata3/model_epoch_47.pth\n",
      "===> Epoch 48 Complete: Avg. Loss: 0.0005\n",
      "===> Avg. Loss: 0.0005 \n",
      "===> Avg. Error: 0.0006 \n",
      "Checkpoint saved to ./checkpoint_largedata3/model_epoch_48.pth\n",
      "===> Epoch 49 Complete: Avg. Loss: 0.0005\n",
      "===> Avg. Loss: 0.0005 \n",
      "===> Avg. Error: 0.0006 \n",
      "Checkpoint saved to ./checkpoint_largedata3/model_epoch_49.pth\n",
      "===> Epoch 50 Complete: Avg. Loss: 0.0005\n",
      "===> Avg. Loss: 0.0005 \n",
      "===> Avg. Error: 0.0006 \n",
      "Checkpoint saved to ./checkpoint_largedata3/model_epoch_50.pth\n",
      "===> Epoch 51 Complete: Avg. Loss: 0.0005\n",
      "===> Avg. Loss: 0.0005 \n",
      "===> Avg. Error: 0.0006 \n",
      "Checkpoint saved to ./checkpoint_largedata3/model_epoch_51.pth\n",
      "===> Epoch 52 Complete: Avg. Loss: 0.0005\n",
      "===> Avg. Loss: 0.0004 \n",
      "===> Avg. Error: 0.0004 \n",
      "Checkpoint saved to ./checkpoint_largedata3/model_epoch_52.pth\n",
      "===> Epoch 53 Complete: Avg. Loss: 0.0005\n",
      "===> Avg. Loss: 0.0004 \n",
      "===> Avg. Error: 0.0005 \n",
      "Checkpoint saved to ./checkpoint_largedata3/model_epoch_53.pth\n",
      "===> Epoch 54 Complete: Avg. Loss: 0.0005\n",
      "===> Avg. Loss: 0.0003 \n",
      "===> Avg. Error: 0.0004 \n",
      "Checkpoint saved to ./checkpoint_largedata3/model_epoch_54.pth\n"
     ]
    },
    {
     "name": "stdout",
     "output_type": "stream",
     "text": [
      "===> Epoch 55 Complete: Avg. Loss: 0.0005\n",
      "===> Avg. Loss: 0.0005 \n",
      "===> Avg. Error: 0.0005 \n",
      "Checkpoint saved to ./checkpoint_largedata3/model_epoch_55.pth\n",
      "===> Epoch 56 Complete: Avg. Loss: 0.0005\n",
      "===> Avg. Loss: 0.0008 \n",
      "===> Avg. Error: 0.0009 \n",
      "Checkpoint saved to ./checkpoint_largedata3/model_epoch_56.pth\n",
      "===> Epoch 57 Complete: Avg. Loss: 0.0005\n",
      "===> Avg. Loss: 0.0005 \n",
      "===> Avg. Error: 0.0006 \n",
      "Checkpoint saved to ./checkpoint_largedata3/model_epoch_57.pth\n",
      "===> Epoch 58 Complete: Avg. Loss: 0.0005\n",
      "===> Avg. Loss: 0.0004 \n",
      "===> Avg. Error: 0.0005 \n",
      "Checkpoint saved to ./checkpoint_largedata3/model_epoch_58.pth\n",
      "===> Epoch 59 Complete: Avg. Loss: 0.0005\n",
      "===> Avg. Loss: 0.0006 \n",
      "===> Avg. Error: 0.0006 \n",
      "Checkpoint saved to ./checkpoint_largedata3/model_epoch_59.pth\n",
      "===> Epoch 60 Complete: Avg. Loss: 0.0005\n",
      "===> Avg. Loss: 0.0004 \n",
      "===> Avg. Error: 0.0004 \n",
      "Checkpoint saved to ./checkpoint_largedata3/model_epoch_60.pth\n",
      "===> Epoch 61 Complete: Avg. Loss: 0.0005\n",
      "===> Avg. Loss: 0.0004 \n",
      "===> Avg. Error: 0.0004 \n",
      "Checkpoint saved to ./checkpoint_largedata3/model_epoch_61.pth\n",
      "===> Epoch 62 Complete: Avg. Loss: 0.0005\n",
      "===> Avg. Loss: 0.0004 \n",
      "===> Avg. Error: 0.0004 \n",
      "Checkpoint saved to ./checkpoint_largedata3/model_epoch_62.pth\n",
      "===> Epoch 63 Complete: Avg. Loss: 0.0005\n",
      "===> Avg. Loss: 0.0005 \n",
      "===> Avg. Error: 0.0006 \n",
      "Checkpoint saved to ./checkpoint_largedata3/model_epoch_63.pth\n",
      "===> Epoch 64 Complete: Avg. Loss: 0.0005\n",
      "===> Avg. Loss: 0.0006 \n",
      "===> Avg. Error: 0.0007 \n",
      "Checkpoint saved to ./checkpoint_largedata3/model_epoch_64.pth\n",
      "===> Epoch 65 Complete: Avg. Loss: 0.0005\n",
      "===> Avg. Loss: 0.0003 \n",
      "===> Avg. Error: 0.0004 \n",
      "Checkpoint saved to ./checkpoint_largedata3/model_epoch_65.pth\n",
      "===> Epoch 66 Complete: Avg. Loss: 0.0005\n",
      "===> Avg. Loss: 0.0005 \n",
      "===> Avg. Error: 0.0006 \n",
      "Checkpoint saved to ./checkpoint_largedata3/model_epoch_66.pth\n",
      "===> Epoch 67 Complete: Avg. Loss: 0.0005\n",
      "===> Avg. Loss: 0.0004 \n",
      "===> Avg. Error: 0.0005 \n",
      "Checkpoint saved to ./checkpoint_largedata3/model_epoch_67.pth\n",
      "===> Epoch 68 Complete: Avg. Loss: 0.0005\n",
      "===> Avg. Loss: 0.0005 \n",
      "===> Avg. Error: 0.0005 \n",
      "Checkpoint saved to ./checkpoint_largedata3/model_epoch_68.pth\n",
      "===> Epoch 69 Complete: Avg. Loss: 0.0005\n",
      "===> Avg. Loss: 0.0004 \n",
      "===> Avg. Error: 0.0005 \n",
      "Checkpoint saved to ./checkpoint_largedata3/model_epoch_69.pth\n",
      "===> Epoch 70 Complete: Avg. Loss: 0.0005\n",
      "===> Avg. Loss: 0.0004 \n",
      "===> Avg. Error: 0.0005 \n",
      "Checkpoint saved to ./checkpoint_largedata3/model_epoch_70.pth\n",
      "===> Epoch 71 Complete: Avg. Loss: 0.0005\n",
      "===> Avg. Loss: 0.0005 \n",
      "===> Avg. Error: 0.0005 \n",
      "Checkpoint saved to ./checkpoint_largedata3/model_epoch_71.pth\n",
      "===> Epoch 72 Complete: Avg. Loss: 0.0005\n",
      "===> Avg. Loss: 0.0004 \n",
      "===> Avg. Error: 0.0005 \n",
      "Checkpoint saved to ./checkpoint_largedata3/model_epoch_72.pth\n",
      "===> Epoch 73 Complete: Avg. Loss: 0.0005\n",
      "===> Avg. Loss: 0.0004 \n",
      "===> Avg. Error: 0.0005 \n",
      "Checkpoint saved to ./checkpoint_largedata3/model_epoch_73.pth\n",
      "===> Epoch 74 Complete: Avg. Loss: 0.0005\n",
      "===> Avg. Loss: 0.0005 \n",
      "===> Avg. Error: 0.0005 \n",
      "Checkpoint saved to ./checkpoint_largedata3/model_epoch_74.pth\n",
      "===> Epoch 75 Complete: Avg. Loss: 0.0005\n",
      "===> Avg. Loss: 0.0005 \n",
      "===> Avg. Error: 0.0006 \n",
      "Checkpoint saved to ./checkpoint_largedata3/model_epoch_75.pth\n",
      "===> Epoch 76 Complete: Avg. Loss: 0.0005\n",
      "===> Avg. Loss: 0.0004 \n",
      "===> Avg. Error: 0.0005 \n",
      "Checkpoint saved to ./checkpoint_largedata3/model_epoch_76.pth\n",
      "===> Epoch 77 Complete: Avg. Loss: 0.0005\n",
      "===> Avg. Loss: 0.0004 \n",
      "===> Avg. Error: 0.0005 \n",
      "Checkpoint saved to ./checkpoint_largedata3/model_epoch_77.pth\n",
      "===> Epoch 78 Complete: Avg. Loss: 0.0005\n",
      "===> Avg. Loss: 0.0006 \n",
      "===> Avg. Error: 0.0007 \n",
      "Checkpoint saved to ./checkpoint_largedata3/model_epoch_78.pth\n",
      "===> Epoch 79 Complete: Avg. Loss: 0.0005\n",
      "===> Avg. Loss: 0.0004 \n",
      "===> Avg. Error: 0.0004 \n",
      "Checkpoint saved to ./checkpoint_largedata3/model_epoch_79.pth\n",
      "===> Epoch 80 Complete: Avg. Loss: 0.0005\n",
      "===> Avg. Loss: 0.0004 \n",
      "===> Avg. Error: 0.0004 \n",
      "Checkpoint saved to ./checkpoint_largedata3/model_epoch_80.pth\n",
      "===> Epoch 81 Complete: Avg. Loss: 0.0005\n",
      "===> Avg. Loss: 0.0004 \n",
      "===> Avg. Error: 0.0005 \n",
      "Checkpoint saved to ./checkpoint_largedata3/model_epoch_81.pth\n",
      "===> Epoch 82 Complete: Avg. Loss: 0.0005\n",
      "===> Avg. Loss: 0.0006 \n",
      "===> Avg. Error: 0.0007 \n",
      "Checkpoint saved to ./checkpoint_largedata3/model_epoch_82.pth\n",
      "===> Epoch 83 Complete: Avg. Loss: 0.0005\n",
      "===> Avg. Loss: 0.0006 \n",
      "===> Avg. Error: 0.0007 \n",
      "Checkpoint saved to ./checkpoint_largedata3/model_epoch_83.pth\n",
      "===> Epoch 84 Complete: Avg. Loss: 0.0005\n",
      "===> Avg. Loss: 0.0003 \n",
      "===> Avg. Error: 0.0004 \n",
      "Checkpoint saved to ./checkpoint_largedata3/model_epoch_84.pth\n",
      "===> Epoch 85 Complete: Avg. Loss: 0.0005\n",
      "===> Avg. Loss: 0.0006 \n",
      "===> Avg. Error: 0.0007 \n",
      "Checkpoint saved to ./checkpoint_largedata3/model_epoch_85.pth\n",
      "===> Epoch 86 Complete: Avg. Loss: 0.0005\n",
      "===> Avg. Loss: 0.0004 \n",
      "===> Avg. Error: 0.0004 \n",
      "Checkpoint saved to ./checkpoint_largedata3/model_epoch_86.pth\n",
      "===> Epoch 87 Complete: Avg. Loss: 0.0005\n",
      "===> Avg. Loss: 0.0005 \n",
      "===> Avg. Error: 0.0006 \n",
      "Checkpoint saved to ./checkpoint_largedata3/model_epoch_87.pth\n",
      "===> Epoch 88 Complete: Avg. Loss: 0.0005\n",
      "===> Avg. Loss: 0.0004 \n",
      "===> Avg. Error: 0.0005 \n",
      "Checkpoint saved to ./checkpoint_largedata3/model_epoch_88.pth\n",
      "===> Epoch 89 Complete: Avg. Loss: 0.0005\n",
      "===> Avg. Loss: 0.0004 \n",
      "===> Avg. Error: 0.0005 \n",
      "Checkpoint saved to ./checkpoint_largedata3/model_epoch_89.pth\n",
      "===> Epoch 90 Complete: Avg. Loss: 0.0005\n",
      "===> Avg. Loss: 0.0004 \n",
      "===> Avg. Error: 0.0005 \n",
      "Checkpoint saved to ./checkpoint_largedata3/model_epoch_90.pth\n",
      "===> Epoch 91 Complete: Avg. Loss: 0.0005\n",
      "===> Avg. Loss: 0.0006 \n",
      "===> Avg. Error: 0.0007 \n",
      "Checkpoint saved to ./checkpoint_largedata3/model_epoch_91.pth\n",
      "===> Epoch 92 Complete: Avg. Loss: 0.0005\n",
      "===> Avg. Loss: 0.0003 \n",
      "===> Avg. Error: 0.0004 \n",
      "Checkpoint saved to ./checkpoint_largedata3/model_epoch_92.pth\n",
      "===> Epoch 93 Complete: Avg. Loss: 0.0005\n",
      "===> Avg. Loss: 0.0006 \n",
      "===> Avg. Error: 0.0007 \n",
      "Checkpoint saved to ./checkpoint_largedata3/model_epoch_93.pth\n",
      "===> Epoch 94 Complete: Avg. Loss: 0.0005\n",
      "===> Avg. Loss: 0.0004 \n",
      "===> Avg. Error: 0.0004 \n",
      "Checkpoint saved to ./checkpoint_largedata3/model_epoch_94.pth\n",
      "===> Epoch 95 Complete: Avg. Loss: 0.0005\n",
      "===> Avg. Loss: 0.0006 \n",
      "===> Avg. Error: 0.0006 \n",
      "Checkpoint saved to ./checkpoint_largedata3/model_epoch_95.pth\n",
      "===> Epoch 96 Complete: Avg. Loss: 0.0005\n",
      "===> Avg. Loss: 0.0005 \n",
      "===> Avg. Error: 0.0006 \n",
      "Checkpoint saved to ./checkpoint_largedata3/model_epoch_96.pth\n",
      "===> Epoch 97 Complete: Avg. Loss: 0.0005\n",
      "===> Avg. Loss: 0.0004 \n",
      "===> Avg. Error: 0.0005 \n",
      "Checkpoint saved to ./checkpoint_largedata3/model_epoch_97.pth\n",
      "===> Epoch 98 Complete: Avg. Loss: 0.0005\n",
      "===> Avg. Loss: 0.0007 \n",
      "===> Avg. Error: 0.0008 \n",
      "Checkpoint saved to ./checkpoint_largedata3/model_epoch_98.pth\n",
      "===> Epoch 99 Complete: Avg. Loss: 0.0005\n",
      "===> Avg. Loss: 0.0003 \n",
      "===> Avg. Error: 0.0004 \n",
      "Checkpoint saved to ./checkpoint_largedata3/model_epoch_99.pth\n",
      "===> Epoch 100 Complete: Avg. Loss: 0.0005\n",
      "===> Avg. Loss: 0.0003 \n",
      "===> Avg. Error: 0.0004 \n",
      "Checkpoint saved to ./checkpoint_largedata3/model_epoch_100.pth\n"
     ]
    }
   ],
   "source": [
    "L_train_loss = []\n",
    "L_test_loss = []\n",
    "L_test_error = []\n",
    "for epoch in range(1, ma是x_epoches + 1):\n",
    "    train_loss = train(epoch)\n",
    "    test_loss,test_error = test()\n",
    "    checkpoint(epoch)\n",
    "#     data.TestErrorPlot(model,device, testing_data_loader)\n",
    "    L_train_loss.append(train_loss)\n",
    "    L_test_loss.append(test_loss)\n",
    "    L_test_error.append(test_error)"
   ]
  },
  {
   "cell_type": "code",
   "execution_count": 5,
   "metadata": {
    "scrolled": false
   },
   "outputs": [
    {
     "data": {
      "image/png": "[encoded data removed]",
      "text/plain": [
       "<Figure size 432x288 with 1 Axes>"
      ]
     },
     "metadata": {
      "needs_background": "light"
     },
     "output_type": "display_data"
    },
    {
     "name": "stdout",
     "output_type": "stream",
     "text": [
      "0.01628956923581316\n"
     ]
    }
   ],
   "source": [
    "import importlib \n",
    "importlib.reload(data)\n",
    "data.TestErrorPlot(model,device, testing_data_loader)"
   ]
  },
  {
   "cell_type": "code",
   "execution_count": 4,
   "metadata": {
    "scrolled": true
   },
   "outputs": [
    {
     "name": "stderr",
     "output_type": "stream",
     "text": [
      "/export/home/math/angranl/anaconda3/lib/python3.7/site-packages/torch/serialization.py:435: SourceChangeWarning: source code of class 'model.rdcnn_2' has changed. you can retrieve the original source code by accessing the object's source attribute or set `torch.nn.Module.dump_patches = True` and use the patch tool to revert the changes.\n",
      "  warnings.warn(msg, SourceChangeWarning)\n"
     ]
    },
    {
     "data": {
      "text/plain": [
       "rdcnn_2(\n",
       "  (discriminator): Sequential(\n",
       "    (0): Conv2d(5, 40, kernel_size=(3, 3), stride=(2, 2), padding=(1, 1))\n",
       "    (1): ReLU(inplace)\n",
       "    (2): Dropout(p=0.0)\n",
       "    (3): Conv2d(40, 20, kernel_size=(3, 3), stride=(2, 2), padding=(1, 1))\n",
       "    (4): ReLU(inplace)\n",
       "    (5): Dropout(p=0.0)\n",
       "    (6): MaxPool2d(kernel_size=2, stride=1, padding=0, dilation=1, ceil_mode=False)\n",
       "    (7): Conv2d(20, 10, kernel_size=(3, 3), stride=(2, 2), padding=(1, 1))\n",
       "    (8): ReLU(inplace)\n",
       "    (9): Dropout(p=0.0)\n",
       "    (10): MaxPool2d(kernel_size=2, stride=1, padding=0, dilation=1, ceil_mode=False)\n",
       "    (11): Dropout(p=0.0)\n",
       "  )\n",
       "  (generator): Sequential(\n",
       "    (0): ConvTranspose2d(10, 40, kernel_size=(3, 3), stride=(2, 2), padding=(1, 1))\n",
       "    (1): ReLU(inplace)\n",
       "    (2): ConvTranspose2d(40, 20, kernel_size=(2, 2), stride=(2, 2))\n",
       "    (3): ReLU(inplace)\n",
       "    (4): ConvTranspose2d(20, 10, kernel_size=(2, 2), stride=(2, 2))\n",
       "    (5): Tanh()\n",
       "    (6): ConvTranspose2d(10, 1, kernel_size=(3, 3), stride=(2, 2), padding=(2, 2))\n",
       "    (7): Tanh()\n",
       "  )\n",
       ")"
      ]
     },
     "execution_count": 4,
     "metadata": {},
     "output_type": "execute_result"
    }
   ],
   "source": [
    "model = torch.load('./checkpoint_largedata3/model_epoch_100.pth')\n",
    "model.eval()"
   ]
  },
  {
   "cell_type": "code",
   "execution_count": 6,
   "metadata": {},
   "outputs": [],
   "source": [
    "def ComputeTestError(prediction, target):\n",
    "    # tmp_error = torch.mean(torch.abs(prediction-target))/torch.abs(torch.max(target)-torch.min(target))\n",
    "    # tmp_error = torch.mean(torch.abs(prediction-target)**2)/torch.abs(torch.max(target))\n",
    "    # tmp_error = torch.sqrt(torch.abs(prediction-target).pow(2).sum())/prediction.numel()/torch.abs(torch.max(target)-torch.min(target))\n",
    "    tmp_error = torch.sqrt(torch.mean(torch.abs(prediction-target)**2))/torch.abs(torch.max(target))\n",
    "    # tmp_error = torch.mean(torch.abs(prediction-target)**2)/torch.abs(torch.max(target)-torch.min(target))\n",
    "    return tmp_error"
   ]
  },
  {
   "cell_type": "code",
   "execution_count": 7,
   "metadata": {},
   "outputs": [],
   "source": [
    "import heapq"
   ]
  },
  {
   "cell_type": "code",
   "execution_count": 8,
   "metadata": {},
   "outputs": [],
   "source": [
    "heap_kmin = []\n",
    "heap_kmax = []\n",
    "\n",
    "i=0\n",
    "\n",
    "with torch.no_grad():\n",
    "    for batch in testing_data_loader:\n",
    "        input, target = batch[0].to(device, torch.float), batch[1].to(device, torch.float)\n",
    "        prediction = model(input)\n",
    "        \n",
    "        for j in range(len(prediction)):\n",
    "            tmp_error = ComputeTestError(prediction[j], target[j]).item()\n",
    "            i+=1\n",
    "            if(i<6):\n",
    "                heapq.heappush(heap_kmin, (-tmp_error, input[j],target[j],prediction[j]))\n",
    "                heapq.heappush(heap_kmax, (tmp_error, input[j],target[j],prediction[j]))\n",
    "            else:\n",
    "                if (heap_kmin[0][0]<-tmp_error):\n",
    "                    heapq.heappop(heap_kmin)\n",
    "                    heapq.heappush(heap_kmin, (-tmp_error, input[j],target[j],prediction[j]))\n",
    "                if (heap_kmax[0][0]<tmp_error):\n",
    "                    heapq.heappop(heap_kmax)\n",
    "                    heapq.heappush(heap_kmax, (tmp_error, input[j],target[j],prediction[j]))"
   ]
  },
  {
   "cell_type": "code",
   "execution_count": 9,
   "metadata": {},
   "outputs": [],
   "source": [
    "error_worst = [x for x, y,z,k in sorted(heap_kmax)]\n",
    "input_worst = [y for x, y,z,k in sorted(heap_kmax)]\n",
    "target_worst = [z for x, y,z,k in sorted(heap_kmax)]\n",
    "prediction_worst = [k for x, y,z,k in sorted(heap_kmax)]"
   ]
  },
  {
   "cell_type": "code",
   "execution_count": 10,
   "metadata": {},
   "outputs": [],
   "source": [
    "error_best = [x for x, y,z,k in sorted(heap_kmin)]\n",
    "input_best = [y for x, y,z,k in sorted(heap_kmin)]\n",
    "target_best = [z for x, y,z,k in sorted(heap_kmin)]\n",
    "prediction_best = [k for x, y,z,k in sorted(heap_kmin)]"
   ]
  },
  {
   "cell_type": "code",
   "execution_count": 35,
   "metadata": {},
   "outputs": [
    {
     "data": {
      "image/png": "[encoded data removed]",
      "text/plain": [
       "<Figure size 1440x576 with 11 Axes>"
      ]
     },
     "metadata": {
      "needs_background": "light"
     },
     "output_type": "display_data"
    }
   ],
   "source": [
    "fig, ax = plt.subplots(2,5, figsize=(20,8))\n",
    "for i in range(5):\n",
    "    input = input_worst[i].cpu().numpy()\n",
    "    target = target_worst[i]\n",
    "    prediction = prediction_worst[i]\n",
    "\n",
    "    im_tar = ax[0][i].imshow(target[0].cpu().numpy()[::-1],cmap = \"jet\")\n",
    "    ax[0][i].axis('off')\n",
    "    ax[0][i].set_title(\"D = \"+str.format('{0:.3f}', input[3][0][0])+\"  K = \"+str.format('{0:.3f}', input[2][0][0])+\"  t = \"+str(input[1][0][0]),size=12)\n",
    "\n",
    "    \n",
    "    ax[1][i].imshow(prediction[0].cpu().numpy()[::-1],cmap = \"jet\")\n",
    "    ax[1][i].axis('off')\n",
    "    fig.subplots_adjust(right=0.8)\n",
    "cbar_ax = fig.add_axes([0.82, 0.15, 0.01, 0.7])\n",
    "fig.colorbar(im_tar, cax=cbar_ax)\n",
    "\n",
    "plt.show()\n",
    "fig.savefig(\"Best_Worst/worst.png\")"
   ]
  },
  {
   "cell_type": "code",
   "execution_count": 36,
   "metadata": {},
   "outputs": [
    {
     "data": {
      "image/png": "[encoded data removed]",
      "text/plain": [
       "<Figure size 1440x576 with 11 Axes>"
      ]
     },
     "metadata": {
      "needs_background": "light"
     },
     "output_type": "display_data"
    }
   ],
   "source": [
    "fig, ax = plt.subplots(2,5, figsize=(20,8))\n",
    "for i in range(5):\n",
    "    input = input_best[i].cpu().numpy()\n",
    "    target = target_best[i]\n",
    "    prediction = prediction_best[i]\n",
    "\n",
    "    im_tar = ax[0][i].imshow(target[0].cpu().numpy()[::-1],cmap = \"jet\")\n",
    "    ax[0][i].axis('off')\n",
    "    ax[0][i].set_title(\"D = \"+str.format('{0:.3f}', input[3][0][0])+\"  K = \"+str.format('{0:.3f}', input[2][0][0])+\"  t = \"+str(input[1][0][0]),size=12)\n",
    "\n",
    "    \n",
    "    ax[1][i].imshow(prediction[0].cpu().numpy()[::-1],cmap = \"jet\")\n",
    "    ax[1][i].axis('off')\n",
    "    fig.subplots_adjust(right=0.8)\n",
    "cbar_ax = fig.add_axes([0.82, 0.15, 0.01, 0.7])\n",
    "fig.colorbar(im_tar, cax=cbar_ax)\n",
    "\n",
    "plt.show()\n",
    "fig.savefig(\"Best_Worst/best.png\")"
   ]
  },
  {
   "cell_type": "markdown",
   "metadata": {},
   "source": [
    "## Best prediction"
   ]
  },
  {
   "cell_type": "code",
   "execution_count": null,
   "metadata": {},
   "outputs": [],
   "source": [
    "def ComputeTestError(prediction, target):\n",
    "    # tmp_error = torch.mean(torch.abs(prediction-target))/torch.abs(torch.max(target)-torch.min(target))\n",
    "    # tmp_error = torch.mean(torch.abs(prediction-target)**2)/torch.abs(torch.max(target))\n",
    "    # tmp_error = torch.sqrt(torch.abs(prediction-target).pow(2).sum())/prediction.numel()/torch.abs(torch.max(target)-torch.min(target))\n",
    "    tmp_error = torch.sqrt(torch.mean(torch.abs(prediction-target)**2))/torch.abs(torch.max(target))\n",
    "    # tmp_error = torch.mean(torch.abs(prediction-target)**2)/torch.abs(torch.max(target)-torch.min(target))\n",
    "    return tmp_error"
   ]
  },
  {
   "cell_type": "code",
   "execution_count": null,
   "metadata": {},
   "outputs": [],
   "source": [
    "def TestErrorPlot(model, device, testing_data_loader):\n",
    "    error_List = []\n",
    "    testID_List =[]\n",
    "    count = 1\n",
    "\n",
    "    with torch.no_grad():\n",
    "        for batch in testing_data_loader:\n",
    "            input, target = batch[0].to(device, torch.float), batch[1].to(device, torch.float)\n",
    "\n",
    "            prediction = model(input)\n",
    "            tmp_error = 0\n",
    "            for j in range(len(prediction)):\n",
    "                # tmp_error = torch.mean(torch.abs(prediction[j]-target[j]))/torch.abs(torch.max(target[j])-torch.min(target[j]))\n",
    "                tmp_error = ComputeTestError(prediction[j], target[j])\n",
    "                error_List.append(tmp_error.item())\n",
    "                testID_List.append(count)\n",
    "                count += 1\n",
    "\n",
    "    testID_List = np.asarray(testID_List)\n",
    "    error_List = np.asarray(error_List)\n",
    "    avg_error = np.average(error_List)\n",
    "    # print(np.asarray(testID_List).type)\n",
    "    # print(np.asarray(error_List).size)\n",
    "    plt.plot(testID_List, error_List,'ko', zorder=1,markersize=1)\n",
    "    # plt.scatter(np.asarray(testID_List), np.asarray(error_List), 'bo')\n",
    "    plt.hlines(avg_error, 1, count, colors='r', zorder=2)\n",
    "    plt.show()\n",
    "    print(avg_error)\n",
    "\n"
   ]
  },
  {
   "cell_type": "code",
   "execution_count": 17,
   "metadata": {},
   "outputs": [],
   "source": [
    "error_List = []\n",
    "testID_List =[]\n",
    "count = 1\n",
    "\n",
    "with torch.no_grad():\n",
    "    for batch in testing_data_loader:\n",
    "        input, target = batch[0].to(device, torch.float), batch[1].to(device, torch.float)\n",
    "\n",
    "        prediction = model(input)\n",
    "        tmp_error = 0\n",
    "        for j in range(len(prediction)):\n",
    "            # tmp_error = torch.mean(torch.abs(prediction[j]-target[j]))/torch.abs(torch.max(target[j])-torch.min(target[j]))\n",
    "            tmp_error = ComputeTestError(prediction[j], target[j])\n",
    "            error_List.append(tmp_error.item())\n",
    "            testID_List.append(count)\n",
    "            count += 1\n",
    "\n",
    "testID_List = np.asarray(testID_List)\n",
    "error_List = np.asarray(error_List)\n",
    "avg_error = np.average(error_List)\n",
    "# # print(np.asarray(testID_List).type)\n",
    "# # print(np.asarray(error_List).size)\n",
    "# plt.plot(testID_List, error_List,'ko', zorder=1,markersize=1)\n",
    "# # plt.scatter(np.asarray(testID_List), np.asarray(error_List), 'bo')\n",
    "# plt.hlines(avg_error, 1, count, colors='r', zorder=2)\n",
    "# plt.show()\n",
    "# print(avg_error)"
   ]
  },
  {
   "cell_type": "code",
   "execution_count": 8,
   "metadata": {},
   "outputs": [
    {
     "name": "stdout",
     "output_type": "stream",
     "text": [
      "[29252 44648 25027 48939 12681]\n"
     ]
    },
    {
     "data": {
      "text/plain": [
       "array([0.18433422, 0.22271203, 0.21325128, 0.20270693, 0.19697653])"
      ]
     },
     "execution_count": 8,
     "metadata": {},
     "output_type": "execute_result"
    }
   ],
   "source": [
    "ind = np.argpartition(error_List, -5)[-5:]\n",
    "print(ind)\n",
    "\n",
    "error_List[ind]"
   ]
  },
  {
   "cell_type": "code",
   "execution_count": 13,
   "metadata": {},
   "outputs": [
    {
     "name": "stdout",
     "output_type": "stream",
     "text": [
      "[24625  1239 52527 13576 59816]\n"
     ]
    },
    {
     "data": {
      "text/plain": [
       "array([0.00476914, 0.00478762, 0.00487734, 0.00482616, 0.00487566])"
      ]
     },
     "execution_count": 13,
     "metadata": {},
     "output_type": "execute_result"
    }
   ],
   "source": [
    "ind = np.argpartition(error_List, 5)[:5]\n",
    "print(ind)\n",
    "\n",
    "error_List[ind]"
   ]
  },
  {
   "cell_type": "code",
   "execution_count": 18,
   "metadata": {},
   "outputs": [
    {
     "data": {
      "text/plain": [
       "array([45862, 40938, 23069, 35193, 35907])"
      ]
     },
     "execution_count": 18,
     "metadata": {},
     "output_type": "execute_result"
    }
   ],
   "source": [
    "ind = error_List.argsort()[-5:][::-1]\n",
    "ind"
   ]
  },
  {
   "cell_type": "code",
   "execution_count": 19,
   "metadata": {},
   "outputs": [
    {
     "data": {
      "text/plain": [
       "array([0.22271203, 0.21325128, 0.20270693, 0.19697653, 0.18433422])"
      ]
     },
     "execution_count": 19,
     "metadata": {},
     "output_type": "execute_result"
    }
   ],
   "source": [
    "error_List[ind]"
   ]
  },
  {
   "cell_type": "code",
   "execution_count": 73,
   "metadata": {},
   "outputs": [
    {
     "data": {
      "text/plain": [
       "0.22271202504634857"
      ]
     },
     "execution_count": 73,
     "metadata": {},
     "output_type": "execute_result"
    }
   ],
   "source": [
    "error_List[7159]"
   ]
  },
  {
   "cell_type": "code",
   "execution_count": 50,
   "metadata": {},
   "outputs": [
    {
     "data": {
      "text/plain": [
       "21151"
      ]
     },
     "execution_count": 50,
     "metadata": {},
     "output_type": "execute_result"
    }
   ],
   "source": [
    "ind = error_List.argsort()[:5][::1]\n",
    "ind[0]"
   ]
  },
  {
   "cell_type": "code",
   "execution_count": 83,
   "metadata": {
    "scrolled": true
   },
   "outputs": [],
   "source": [
    "prediction_L = []\n",
    "input_L = []\n",
    "target_L = []\n",
    "i=-1\n",
    "\n",
    "with torch.no_grad():\n",
    "    for batch in testing_data_loader:\n",
    "        i+=1\n",
    "        if i == 715:\n",
    "            input, target = batch[0].to(device, torch.float), batch[1].to(device, torch.float)\n",
    "            input_L.append(input)\n",
    "            target_L.append(target)\n",
    "            prediction = model(input)\n",
    "            prediction_L.append(prediction)\n",
    "            break        "
   ]
  },
  {
   "cell_type": "code",
   "execution_count": 84,
   "metadata": {},
   "outputs": [
    {
     "data": {
      "text/plain": [
       "0.01386063639074564"
      ]
     },
     "execution_count": 84,
     "metadata": {},
     "output_type": "execute_result"
    }
   ],
   "source": [
    "i=9\n",
    "ComputeTestError(prediction[i], target[i]).item()"
   ]
  },
  {
   "cell_type": "code",
   "execution_count": 33,
   "metadata": {},
   "outputs": [
    {
     "data": {
      "text/plain": [
       "715"
      ]
     },
     "execution_count": 33,
     "metadata": {},
     "output_type": "execute_result"
    }
   ],
   "source": [
    "prediction_L = []\n",
    "input_L = []\n",
    "target_L = []\n",
    "i=-1\n",
    "\n",
    "with torch.no_grad():\n",
    "    for batch in testing_data_loader:\n",
    "        i+=1\n",
    "        if i == (ind[0]-1)//10:\n",
    "            input, target = batch[0].to(device, torch.float), batch[1].to(device, torch.float)\n",
    "            input_L.append(input)\n",
    "            target_L.append(target)\n",
    "            prediction = model(input)\n",
    "            prediction_L.append(prediction)\n",
    "            break   "
   ]
  },
  {
   "cell_type": "code",
   "execution_count": 72,
   "metadata": {},
   "outputs": [
    {
     "data": {
      "text/plain": [
       "0.01480217557400465"
      ]
     },
     "execution_count": 72,
     "metadata": {},
     "output_type": "execute_result"
    }
   ],
   "source": [
    "i=9\n",
    "ComputeTestError(prediction[i], target[i]).item()"
   ]
  },
  {
   "cell_type": "code",
   "execution_count": 59,
   "metadata": {},
   "outputs": [
    {
     "data": {
      "image/png": "[encoded data removed]",
      "text/plain": [
       "<Figure size 1440x360 with 2 Axes>"
      ]
     },
     "metadata": {
      "needs_background": "light"
     },
     "output_type": "display_data"
    }
   ],
   "source": [
    "input = input_L[0].cpu().numpy()\n",
    "target = target_L[0]\n",
    "fig, ax = plt.subplots(1,1, figsize=(20,5))\n",
    "\n",
    "im = ax.imshow(target[9][0].cpu(),cmap = \"jet\")\n",
    "ax.axis('off')\n",
    "fig.subplots_adjust(right=0.8)\n",
    "cbar_ax = fig.add_axes([0.84, 0.27, 0.01, 0.47])\n",
    "fig.colorbar(im, cax=cbar_ax)\n",
    "\n",
    "\n",
    "plt.show()"
   ]
  },
  {
   "cell_type": "code",
   "execution_count": 58,
   "metadata": {},
   "outputs": [
    {
     "data": {
      "image/png": "[encoded data removed]",
      "text/plain": [
       "<Figure size 1440x360 with 2 Axes>"
      ]
     },
     "metadata": {
      "needs_background": "light"
     },
     "output_type": "display_data"
    }
   ],
   "source": [
    "prediction = prediction_L[0]\n",
    "fig, ax = plt.subplots(1,1, figsize=(20,5))\n",
    "\n",
    "im = ax.imshow(prediction[9][0].cpu(),cmap = \"jet\")\n",
    "ax.axis('off')\n",
    "fig.subplots_adjust(right=0.8)\n",
    "cbar_ax = fig.add_axes([0.84, 0.27, 0.01, 0.47])\n",
    "fig.colorbar(im, cax=cbar_ax)\n",
    "\n",
    "plt.show()"
   ]
  },
  {
   "cell_type": "code",
   "execution_count": 5,
   "metadata": {},
   "outputs": [],
   "source": [
    "def ComputeTestError(prediction, target):\n",
    "    # tmp_error = torch.mean(torch.abs(prediction-target))/torch.abs(torch.max(target)-torch.min(target))\n",
    "    # tmp_error = torch.mean(torch.abs(prediction-target)**2)/torch.abs(torch.max(target))\n",
    "    # tmp_error = torch.sqrt(torch.abs(prediction-target).pow(2).sum())/prediction.numel()/torch.abs(torch.max(target)-torch.min(target))\n",
    "    tmp_error = torch.sqrt(torch.mean(torch.abs(prediction-target)**2))/torch.abs(torch.max(target))\n",
    "    # tmp_error = torch.mean(torch.abs(prediction-target)**2)/torch.abs(torch.max(target)-torch.min(target))\n",
    "    return tmp_error"
   ]
  },
  {
   "cell_type": "code",
   "execution_count": 15,
   "metadata": {},
   "outputs": [
    {
     "data": {
      "image/png": "[encoded data removed]",
      "text/plain": [
       "<Figure size 432x288 with 1 Axes>"
      ]
     },
     "metadata": {
      "needs_background": "light"
     },
     "output_type": "display_data"
    },
    {
     "name": "stdout",
     "output_type": "stream",
     "text": [
      "0.01628956923581316\n"
     ]
    }
   ],
   "source": [
    "import importlib \n",
    "importlib.reload(data)\n",
    "data.TestErrorPlot(model,device, testing_data_loader)"
   ]
  },
  {
   "cell_type": "code",
   "execution_count": 7,
   "metadata": {},
   "outputs": [
    {
     "data": {
      "image/png": "[encoded data removed]",
      "text/plain": [
       "<Figure size 720x360 with 3 Axes>"
      ]
     },
     "metadata": {
      "needs_background": "light"
     },
     "output_type": "display_data"
    },
    {
     "data": {
      "image/png": "[encoded data removed]",
      "text/plain": [
       "<Figure size 720x360 with 3 Axes>"
      ]
     },
     "metadata": {
      "needs_background": "light"
     },
     "output_type": "display_data"
    },
    {
     "data": {
      "image/png": "[encoded data removed]",
      "text/plain": [
       "<Figure size 720x360 with 3 Axes>"
      ]
     },
     "metadata": {
      "needs_background": "light"
     },
     "output_type": "display_data"
    },
    {
     "data": {
      "image/png": "[encoded data removed]",
      "text/plain": [
       "<Figure size 720x360 with 3 Axes>"
      ]
     },
     "metadata": {
      "needs_background": "light"
     },
     "output_type": "display_data"
    },
    {
     "data": {
      "image/png": "[encoded data removed]",
      "text/plain": [
       "<Figure size 720x360 with 3 Axes>"
      ]
     },
     "metadata": {
      "needs_background": "light"
     },
     "output_type": "display_data"
    },
    {
     "data": {
      "image/png": "[encoded data removed]",
      "text/plain": [
       "<Figure size 720x360 with 3 Axes>"
      ]
     },
     "metadata": {
      "needs_background": "light"
     },
     "output_type": "display_data"
    },
    {
     "data": {
      "image/png": "[encoded data removed]",
      "text/plain": [
       "<Figure size 720x360 with 3 Axes>"
      ]
     },
     "metadata": {
      "needs_background": "light"
     },
     "output_type": "display_data"
    }
   ],
   "source": [
    "from matplotlib import pyplot as plt\n",
    "with torch.no_grad():\n",
    "    for batch in testing_data_loader:\n",
    "        input, target = batch[0].to(device, torch.float), batch[1].to(device, torch.float)\n",
    "\n",
    "        prediction = model(input)\n",
    "        \n",
    "for t in range(len(prediction)):\n",
    "    fig, ax = plt.subplots(1,2, figsize=(10,5))\n",
    "\n",
    "    im = ax[0].imshow(prediction[t][0].cpu(),cmap = \"jet\")\n",
    "    im = ax[1].imshow(target[t][0].cpu(),cmap = \"jet\")\n",
    "\n",
    "    fig.subplots_adjust(right=0.8)\n",
    "    cbar_ax = fig.add_axes([0.84, 0.27, 0.01, 0.47])\n",
    "    fig.colorbar(im, cax=cbar_ax)\n",
    "\n",
    "plt.show()"
   ]
  }
 ],
 "metadata": {
  "kernelspec": {
   "display_name": "Python 3",
   "language": "python",
   "name": "python3"
  },
  "language_info": {
   "codemirror_mode": {
    "name": "ipython",
    "version": 3
   },
   "file_extension": ".py",
   "mimetype": "text/x-python",
   "name": "python",
   "nbconvert_exporter": "python",
   "pygments_lexer": "ipython3",
   "version": "3.7.1"
  }
 },
 "nbformat": 4,
 "nbformat_minor": 2
}
