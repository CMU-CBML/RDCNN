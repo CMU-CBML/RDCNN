{
 "cells": [
  {
   "cell_type": "markdown",
   "metadata": {
    "collapsed": true,
    "pycharm": {
     "name": "#%% md\n"
    }
   },
   "source": [
    "# Improved balance data\n"
   ]
  },
  {
   "cell_type": "code",
   "execution_count": null,
   "outputs": [],
   "source": [
    "import torch\n",
    "import torch.nn as nn\n",
    "import torch.optim as optim\n",
    "from torch.utils import data\n",
    "from torch.utils.data.sampler import SubsetRandomSampler\n",
    "\n",
    "import numpy as np\n",
    "import data\n",
    "from dataset import rdDataset\n",
    "from model import rdcnn_2\n",
    "from math import log10\n",
    "\n",
    "\n",
    "# CUDA for PyTorch\n",
    "use_cuda = torch.cuda.is_available()\n",
    "device = torch.device(\"cuda:1\" if use_cuda else \"cpu\")\n",
    "# cudnn.benchmark = True\n",
    "path = './data'\n",
    "\n",
    "# Parameters\n",
    "\n",
    "params = {'test_split': .25,\n",
    "          'shuffle_dataset': True,\n",
    "          'batchsize': 32,\n",
    "          'testBatchsize': 10,\n",
    "          'random_seed': 42,\n",
    "          'numworkers':32,\n",
    "          'pinmemory':True}\n",
    "max_epoches = 100\n",
    "learning_rate = 1e-3\n",
    "drop_rate = 0.0\n",
    "\n",
    "print('===> Loading datasets')\n",
    "# Load All Dataset\n",
    "dataset = rdDataset(path)\n",
    "\n",
    "# Creating data indices for training and validation splits:\n",
    "training_data_loader, testing_data_loader = data.DatasetSplit(dataset, **params)\n",
    "\n",
    "print('===> Building model')\n",
    "model = rdcnn_2(drop_rate).to(device)\n",
    "criterion = nn.MSELoss()\n",
    "optimizer = torch.optim.Adam(model.parameters(), lr=learning_rate,weight_decay=1e-5)\n",
    "\n",
    "\n",
    "\n",
    "def train(epoch):\n",
    "    epoch_loss = 0\n",
    "    for iteration, batch in enumerate(training_data_loader, 1):\n",
    "        input, target = batch[0].to(device, torch.float), batch[1].to(device, torch.float)\n",
    "        optimizer.zero_grad()\n",
    "        loss = criterion(model(input), target)\n",
    "        epoch_loss += loss.item()\n",
    "        loss.backward()\n",
    "        optimizer.step()\n",
    "\n",
    "#         print(\"===> Epoch[{}]({}/{}): Loss: {:.4f}\".format(epoch, iteration, len(training_data_loader), loss.item()))\n",
    "\n",
    "    print(\"===> Epoch {} Complete: Avg. Loss: {:.4f}\".format(epoch, epoch_loss / len(training_data_loader)))\n",
    "    return epoch, epoch_loss / len(training_data_loader)\n",
    "    \n",
    "def test():\n",
    "    avg_error = 0\n",
    "    avg_loss = 0\n",
    "    with torch.no_grad():\n",
    "        for batch in testing_data_loader:\n",
    "            input, target = batch[0].to(device, torch.float), batch[1].to(device, torch.float)\n",
    "\n",
    "            prediction = model(input)\n",
    "            tmp_error = 0\n",
    "#             print(len(prediction))\n",
    "            for j in range(len(prediction)):\n",
    "                tmp_error += torch.mean((prediction[j]-target[j])**2/torch.max(target[j]))\n",
    "            avg_error += tmp_error / len(prediction)\n",
    "            mse = criterion(prediction, target)\n",
    "            avg_loss += mse\n",
    "    print(\"===> Avg. Loss: {:.4f} \".format(avg_loss / len(testing_data_loader)))\n",
    "    print(\"===> Avg. Error: {:.4f} \".format(avg_error / len(testing_data_loader)))\n",
    "    return avg_loss / len(testing_data_loader),avg_error / len(testing_data_loader)\n",
    "\n",
    "def checkpoint(epoch):\n",
    "    model_out_path = \"./checkpoint_largedata5_removetanh-4layerinput/model_epoch_{}.pth\".format(epoch)\n",
    "    torch.save(model, model_out_path)\n",
    "    print(\"Checkpoint saved to {}\".format(model_out_path))\n",
    "    \n",
    "    "
   ],
   "metadata": {
    "collapsed": false,
    "pycharm": {
     "name": "#%%\n"
    }
   }
  },
  {
   "cell_type": "code",
   "execution_count": null,
   "outputs": [],
   "source": [
    "L_train_loss = []\n",
    "L_test_loss = []\n",
    "L_test_error = []\n",
    "for epoch in range(1, max_epoches + 1):\n",
    "    train_loss = train(epoch)\n",
    "    test_loss,test_error = test()\n",
    "    checkpoint(epoch)\n",
    "#     data.TestErrorPlot(model,device, testing_data_loader)\n",
    "    L_train_loss.append(train_loss)\n",
    "    L_test_loss.append(test_loss)\n",
    "    L_test_error.append(test_error)"
   ],
   "metadata": {
    "collapsed": false,
    "pycharm": {
     "name": "#%%\n"
    }
   }
  },
  {
   "cell_type": "code",
   "execution_count": null,
   "outputs": [],
   "source": [
    "import importlib \n",
    "importlib.reload(data)\n",
    "# data.TestErrorPlot(model,device, testing_data_loader)\n",
    "test_error_epoch = data.ComputeErrorVsEpoch(\"./checkpoint_largedata5_removetanh-4layerinput/\", device, testing_data_loader)\n",
    "np.savetxt('relu_4layer_test_error_epoch.out',  np.transpose(test_error_epoch))"
   ],
   "metadata": {
    "collapsed": false,
    "pycharm": {
     "name": "#%%\n"
    }
   }
  },
  {
   "cell_type": "code",
   "execution_count": null,
   "outputs": [],
   "source": [
    "import data\n",
    "import importlib \n",
    "importlib.reload(data)\n",
    "data.TestErrorPlot(model,device, testing_data_loader)"
   ],
   "metadata": {
    "collapsed": false,
    "pycharm": {
     "name": "#%%\n"
    }
   }
  },
  {
   "cell_type": "code",
   "execution_count": null,
   "outputs": [],
   "source": [
    "model = torch.load('./checkpoint_largedata5_removetanh-4layerinput/model_epoch_100.pth')\n",
    "model.eval()"
   ],
   "metadata": {
    "collapsed": false,
    "pycharm": {
     "name": "#%%\n"
    }
   }
  },
  {
   "cell_type": "code",
   "execution_count": null,
   "outputs": [],
   "source": [
    "from matplotlib import pyplot as plt\n",
    "\n",
    "with torch.no_grad():\n",
    "    for batch in testing_data_loader:\n",
    "        input, target = batch[0].to(device, torch.float), batch[1].to(device, torch.float)\n",
    "        prediction = model(input)"
   ],
   "metadata": {
    "collapsed": false,
    "pycharm": {
     "name": "#%%\n"
    }
   }
  },
  {
   "cell_type": "code",
   "execution_count": null,
   "outputs": [],
   "source": [
    "from matplotlib import pyplot as plt\n",
    "prediction_L = []\n",
    "input_L = []\n",
    "target_L = []\n",
    "i=0\n",
    "\n",
    "with torch.no_grad():\n",
    "    for batch in testing_data_loader:\n",
    "        if ++i ==\n",
    "        input, target = batch[0].to(device, torch.float), batch[1].to(device, torch.float)\n",
    "        input_L.append(input)\n",
    "        target_L.append(target)\n",
    "        prediction = model(input)\n",
    "        prediction_L.append(prediction)\n",
    "        i = i+1\n",
    "        if i==10:\n",
    "            break"
   ],
   "metadata": {
    "collapsed": false,
    "pycharm": {
     "name": "#%%\n"
    }
   }
  },
  {
   "cell_type": "code",
   "execution_count": null,
   "outputs": [],
   "source": [
    "for i in range(10):\n",
    "    input = input_L[i].cpu().numpy()\n",
    "    target = target_L[i]\n",
    "    fig, ax = plt.subplots(1,5, figsize=(20,5))\n",
    "    for t in range(5):\n",
    "        im = ax[t].imshow(target[t][0].cpu(),cmap = \"jet\")\n",
    "        ax[t].axis('off')\n",
    "        ax[t].set_title(\"D = \"+str(input[t][3][0][0])+\"  K = \"+str(input[t][2][0][0])+\"  t = \"+str(input[t][1][0][0]),size=10)\n",
    "    fig.subplots_adjust(right=0.8)\n",
    "    cbar_ax = fig.add_axes([0.84, 0.27, 0.01, 0.47])\n",
    "    fig.colorbar(im, cax=cbar_ax)\n",
    "    \n",
    "    fig, ax = plt.subplots(1,5, figsize=(20,5))\n",
    "    for t in range(5,10):\n",
    "        im = ax[t-5].imshow(target[t][0].cpu(),cmap = \"jet\")\n",
    "        ax[t-5].axis('off')\n",
    "        ax[t-5].set_title(\"D = \"+str(input[t][3][0][0])+\"  K = \"+str(input[t][2][0][0])+\"  t = \"+str(input[t][1][0][0]),size=10)\n",
    "    fig.subplots_adjust(right=0.8)\n",
    "    cbar_ax = fig.add_axes([0.84, 0.27, 0.01, 0.47])\n",
    "    fig.colorbar(im, cax=cbar_ax)\n",
    "\n",
    "\n",
    "plt.show()"
   ],
   "metadata": {
    "collapsed": false,
    "pycharm": {
     "name": "#%%\n"
    }
   }
  },
  {
   "cell_type": "code",
   "execution_count": null,
   "outputs": [],
   "source": [
    "for i in range(10):\n",
    "    input = input_L[i].cpu().numpy()\n",
    "    prediction = prediction_L[i]\n",
    "    fig, ax = plt.subplots(1,5, figsize=(20,5))\n",
    "    for t in range(5):\n",
    "        im = ax[t].imshow(prediction[t][0].cpu(),cmap = \"jet\")\n",
    "        ax[t].axis('off')\n",
    "        ax[t].set_title(\"D = \"+str(input[t][3][0][0])+\"  K = \"+str(input[t][2][0][0])+\"  t = \"+str(input[t][1][0][0]),size=10)\n",
    "    fig.subplots_adjust(right=0.8)\n",
    "    cbar_ax = fig.add_axes([0.84, 0.27, 0.01, 0.47])\n",
    "    fig.colorbar(im, cax=cbar_ax)\n",
    "    \n",
    "    fig, ax = plt.subplots(1,5, figsize=(20,5))\n",
    "    for t in range(5,10):\n",
    "        im = ax[t-5].imshow(prediction[t][0].cpu(),cmap = \"jet\")\n",
    "        ax[t-5].axis('off')\n",
    "        ax[t-5].set_title(\"D = \"+str(input[t][3][0][0])+\"  K = \"+str(input[t][2][0][0])+\"  t = \"+str(input[t][1][0][0]),size=10)\n",
    "    fig.subplots_adjust(right=0.8)\n",
    "    cbar_ax = fig.add_axes([0.84, 0.27, 0.01, 0.47])\n",
    "    fig.colorbar(im, cax=cbar_ax)\n",
    "\n",
    "\n",
    "plt.show()"
   ],
   "metadata": {
    "collapsed": false,
    "pycharm": {
     "name": "#%%\n"
    }
   }
  },
  {
   "cell_type": "code",
   "execution_count": null,
   "outputs": [],
   "source": [
    "for i in range(10):\n",
    "    input = input_L[i].cpu().numpy()\n",
    "    target = target_L[i]\n",
    "    prediction = prediction_L[i]\n",
    "    for t in range(len(prediction)):\n",
    "        fig, ax = plt.subplots(1,2, figsize=(10,5))\n",
    "\n",
    "        im = ax[0].imshow(prediction[t][0].cpu(),cmap = \"jet\")\n",
    "        ax[0].axis('off')\n",
    "        ax[0].set_title(\"Prediction\")\n",
    "        im = ax[1].imshow(target[t][0].cpu(),cmap = \"jet\")\n",
    "        ax[1].axis('off')\n",
    "        ax[1].set_title(\"Ground Truth data\")\n",
    "\n",
    "        fig.subplots_adjust(right=0.8)\n",
    "        cbar_ax = fig.add_axes([0.84, 0.27, 0.01, 0.47])\n",
    "        fig.colorbar(im, cax=cbar_ax)\n",
    "        fig.text(0.35, 0.1,\"D = \"+str(input[t][3][0][0])+\"  K = \"+str(input[t][2][0][0])+\"  t = \"+str(input[t][1][0][0]), fontsize=10)\n",
    "    plt.show()"
   ],
   "metadata": {
    "collapsed": false,
    "pycharm": {
     "name": "#%%\n"
    }
   }
  },
  {
   "cell_type": "code",
   "execution_count": null,
   "outputs": [],
   "source": [
    "from matplotlib import pyplot as plt\n",
    "prediction_L = []\n",
    "input_L = []\n",
    "target_L = []\n",
    "i=0\n",
    "\n",
    "with torch.no_grad():\n",
    "    for batch in testing_data_loader:\n",
    "        input, target = batch[0].to(device, torch.float), batch[1].to(device, torch.float)\n",
    "        predction = model(input)\n",
    "        tmp_error = 0\n",
    "        for j in range(len(prediction)):\n",
    "            tmp_error = ComputeTestError(prediction[j], target[j])\n",
    "        "
   ],
   "metadata": {
    "collapsed": false,
    "pycharm": {
     "name": "#%%\n"
    }
   }
  },
  {
   "cell_type": "code",
   "execution_count": null,
   "outputs": [],
   "source": [
    "for i in range(10):\n",
    "    input = input_L[i].cpu().numpy()\n",
    "    target = target_L[i]\n",
    "    fig, ax = plt.subplots(1,5, figsize=(20,5))\n",
    "    for t in range(5):\n",
    "        im = ax[t].imshow(target[t][0].cpu(),cmap = \"jet\")\n",
    "        ax[t].axis('off')\n",
    "        ax[t].set_title(\"D = \"+str(input[t][3][0][0])+\"  K = \"+str(input[t][2][0][0])+\"  t = \"+str(input[t][1][0][0]),size=10)\n",
    "    fig.subplots_adjust(right=0.8)\n",
    "    cbar_ax = fig.add_axes([0.84, 0.27, 0.01, 0.47])\n",
    "    fig.colorbar(im, cax=cbar_ax)\n",
    "    \n",
    "    fig, ax = plt.subplots(1,5, figsize=(20,5))\n",
    "    for t in range(5,10):\n",
    "        im = ax[t-5].imshow(target[t][0].cpu(),cmap = \"jet\")\n",
    "        ax[t-5].axis('off')\n",
    "        ax[t-5].set_title(\"D = \"+str(input[t][3][0][0])+\"  K = \"+str(input[t][2][0][0])+\"  t = \"+str(input[t][1][0][0]),size=10)\n",
    "    fig.subplots_adjust(right=0.8)\n",
    "    cbar_ax = fig.add_axes([0.84, 0.27, 0.01, 0.47])\n",
    "    fig.colorbar(im, cax=cbar_ax)\n",
    "\n",
    "\n",
    "plt.show()#%%\n"
   ],
   "metadata": {
    "collapsed": false,
    "pycharm": {
     "name": "#%%\n"
    }
   }
  }
 ],
 "metadata": {
  "language_info": {
   "codemirror_mode": {
    "name": "ipython",
    "version": 2
   },
   "file_extension": ".py",
   "mimetype": "text/x-python",
   "name": "python",
   "nbconvert_exporter": "python",
   "pygments_lexer": "ipython2",
   "version": "2.7.6"
  },
  "kernelspec": {
   "name": "python3",
   "language": "python",
   "display_name": "Python 3"
  },
  "pycharm": {
   "stem_cell": {
    "cell_type": "raw",
    "source": [],
    "metadata": {
     "collapsed": false
    }
   }
  }
 },
 "nbformat": 4,
 "nbformat_minor": 0
}